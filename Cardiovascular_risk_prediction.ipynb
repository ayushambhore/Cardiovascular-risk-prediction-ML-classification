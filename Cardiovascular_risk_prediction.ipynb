{
  "nbformat": 4,
  "nbformat_minor": 0,
  "metadata": {
    "colab": {
      "private_outputs": true,
      "provenance": [],
      "collapsed_sections": [
        "vncDsAP0Gaoa",
        "FJNUwmbgGyua",
        "w6K7xa23Elo4",
        "yQaldy8SH6Dl",
        "mDgbUHAGgjLW",
        "O_i_v8NEhb9l",
        "HhfV-JJviCcP",
        "Y3lxredqlCYt",
        "3RnN4peoiCZX",
        "x71ZqKXriCWQ",
        "7hBIi_osiCS2",
        "JlHwYmJAmNHm",
        "35m5QtbWiB9F",
        "PoPl-ycgm1ru",
        "H0kj-8xxnORC",
        "nA9Y7ga8ng1Z",
        "PBTbrJXOngz2",
        "u3PMJOP6ngxN",
        "dauF4eBmngu3",
        "bKJF3rekwFvQ",
        "MSa1f5Uengrz",
        "GF8Ens_Soomf",
        "0wOQAZs5pc--",
        "K5QZ13OEpz2H",
        "lQ7QKXXCp7Bj",
        "448CDAPjqfQr",
        "KSlN3yHqYklG",
        "t6dVpIINYklI",
        "ijmpgYnKYklI",
        "-JiQyfWJYklI",
        "EM7whBJCYoAo",
        "fge-S5ZAYoAp",
        "85gYPyotYoAp",
        "RoGjAbkUYoAp",
        "4Of9eVA-YrdM",
        "iky9q4vBYrdO",
        "F6T5p64dYrdO",
        "y-Ehk30pYrdP",
        "bamQiAODYuh1",
        "QHF8YVU7Yuh3",
        "GwzvFGzlYuh3",
        "qYpmQ266Yuh3",
        "OH-pJp9IphqM",
        "bbFf2-_FphqN",
        "_ouA3fa0phqN",
        "Seke61FWphqN",
        "PIIx-8_IphqN",
        "t27r6nlMphqO",
        "r2jJGEOYphqO",
        "b0JNsNcRphqO",
        "BZR9WyysphqO",
        "jj7wYXLtphqO",
        "eZrbJ2SmphqO",
        "rFu4xreNphqO",
        "YJ55k-q6phqO",
        "gCFgpxoyphqP",
        "OVtJsKN_phqQ",
        "lssrdh5qphqQ",
        "U2RJ9gkRphqQ",
        "1M8mcRywphqQ",
        "tgIPom80phqQ",
        "JMzcOPDDphqR",
        "x-EpHcCOp1ci",
        "X_VqEhTip1ck",
        "8zGJKyg5p1ck",
        "PVzmfK_Ep1ck",
        "n3dbpmDWp1ck",
        "ylSl6qgtp1ck",
        "ZWILFDl5p1ck",
        "M7G43BXep1ck",
        "Ag9LCva-p1cl",
        "E6MkPsBcp1cl",
        "2cELzS2fp1cl",
        "3MPXvC8up1cl",
        "NC_X3p0fY2L0",
        "UV0SzAkaZNRQ",
        "YPEH6qLeZNRQ",
        "q29F0dvdveiT",
        "EXh0U9oCveiU",
        "22aHeOlLveiV",
        "g-ATYxFrGrvw",
        "Yfr_Vlr8HBkt",
        "8yEUt7NnHlrM",
        "tEA2Xm5dHt1r",
        "I79__PHVH19G",
        "Ou-I18pAyIpj",
        "fF3858GYyt-u",
        "4_0_7-oCpUZd",
        "hwyV_J3ipUZe",
        "3yB-zSqbpUZe",
        "dEUvejAfpUZe",
        "Fd15vwWVpUZf",
        "bn_IUdTipZyH",
        "49K5P_iCpZyH",
        "Nff-vKELpZyI",
        "kLW572S8pZyI",
        "dWbDXHzopZyI",
        "yLjJCtPM0KBk",
        "xiyOF9F70UgQ",
        "7wuGOrhz0itI",
        "id1riN9m0vUs",
        "578E2V7j08f6",
        "89xtkJwZ18nB",
        "67NQN5KX2AMe",
        "Iwf50b-R2tYG",
        "GMQiZwjn3iu7",
        "WVIkgGqN3qsr",
        "XkPnILGE3zoT",
        "Hlsf0x5436Go",
        "mT9DMSJo4nBL",
        "c49ITxTc407N",
        "OeJFEK0N496M",
        "9ExmJH0g5HBk",
        "cJNqERVU536h",
        "k5UmGsbsOxih",
        "T0VqWOYE6DLQ",
        "qBMux9mC6MCf",
        "-oLEiFgy-5Pf",
        "C74aWNz2AliB",
        "2DejudWSA-a0",
        "pEMng2IbBLp7",
        "rAdphbQ9Bhjc",
        "TNVZ9zx19K6k",
        "nqoHp30x9hH9",
        "rMDnDkt2B6du",
        "yiiVWRdJDDil",
        "1UUpS68QDMuG",
        "kexQrXU-DjzY",
        "T5CmagL3EC8N",
        "BhH2vgX9EjGr",
        "qjKvONjwE8ra",
        "P1XJ9OREExlT",
        "VFOzZv6IFROw",
        "TIqpNgepFxVj",
        "VfCC591jGiD4",
        "OB4l2ZhMeS1U",
        "ArJBuiUVfxKd",
        "4qY1EAkEfxKe",
        "PiV4Ypx8fxKe",
        "TfvqoZmBfxKf",
        "dJ2tPlVmpsJ0",
        "JWYfwnehpsJ1",
        "-jK_YjpMpsJ2",
        "HAih1iBOpsJ2",
        "zVGeBEFhpsJ2",
        "bmKjuQ-FpsJ3",
        "Fze-IPXLpx6K",
        "7AN1z2sKpx6M",
        "9PIHJqyupx6M",
        "_-qAgymDpx6N",
        "Z-hykwinpx6N",
        "h_CCil-SKHpo",
        "cBFFvTBNJzUa",
        "HvGl1hHyA_VK",
        "EyNgTHvd2WFk",
        "KH5McJBi2d8v",
        "iW_Lq9qf2h6X",
        "-Kee-DAl2viO",
        "gCX9965dhzqZ",
        "gIfDvo9L0UH2"
      ],
      "include_colab_link": true
    },
    "kernelspec": {
      "name": "python3",
      "display_name": "Python 3"
    },
    "language_info": {
      "name": "python"
    }
  },
  "cells": [
    {
      "cell_type": "markdown",
      "metadata": {
        "id": "view-in-github",
        "colab_type": "text"
      },
      "source": [
        "<a href=\"https://colab.research.google.com/github/ayushambhore/Cardiovascular-risk-prediction-ML-classification/blob/main/Cardiovascular_risk_prediction.ipynb\" target=\"_parent\"><img src=\"https://colab.research.google.com/assets/colab-badge.svg\" alt=\"Open In Colab\"/></a>"
      ]
    },
    {
      "cell_type": "markdown",
      "source": [
        "# **Project Name**    - Cardiovascular Risk Prediction\n",
        "\n"
      ],
      "metadata": {
        "id": "vncDsAP0Gaoa"
      }
    },
    {
      "cell_type": "markdown",
      "source": [
        "##### **Project Type**    - Classification\n",
        "##### **Contribution**    - Individual\n",
        "##### **Name -** Ayush Ambhore"
      ],
      "metadata": {
        "id": "beRrZCGUAJYm"
      }
    },
    {
      "cell_type": "markdown",
      "source": [
        "# **Project Summary -**"
      ],
      "metadata": {
        "id": "FJNUwmbgGyua"
      }
    },
    {
      "cell_type": "markdown",
      "source": [
        "Write the summary here within 500-600 words."
      ],
      "metadata": {
        "id": "F6v_1wHtG2nS"
      }
    },
    {
      "cell_type": "markdown",
      "source": [
        "# **GitHub Link -**"
      ],
      "metadata": {
        "id": "w6K7xa23Elo4"
      }
    },
    {
      "cell_type": "markdown",
      "source": [
        "https://github.com/ayushambhore/Cardiovascular-risk-prediction-ML-classification"
      ],
      "metadata": {
        "id": "h1o69JH3Eqqn"
      }
    },
    {
      "cell_type": "markdown",
      "source": [
        "# **Problem Statement**\n"
      ],
      "metadata": {
        "id": "yQaldy8SH6Dl"
      }
    },
    {
      "cell_type": "markdown",
      "source": [
        "**Write Problem Statement Here.**"
      ],
      "metadata": {
        "id": "DpeJGUA3kjGy"
      }
    },
    {
      "cell_type": "markdown",
      "source": [
        "# ***Let's Begin !***"
      ],
      "metadata": {
        "id": "O_i_v8NEhb9l"
      }
    },
    {
      "cell_type": "markdown",
      "source": [
        "## ***1. Know Your Data***"
      ],
      "metadata": {
        "id": "HhfV-JJviCcP"
      }
    },
    {
      "cell_type": "markdown",
      "source": [
        "### Import Libraries"
      ],
      "metadata": {
        "id": "Y3lxredqlCYt"
      }
    },
    {
      "cell_type": "code",
      "source": [
        "# Import Libraries\n",
        "import numpy as np\n",
        "import pandas as pd\n",
        "from numpy import math\n",
        "\n",
        "import seaborn as sns\n",
        "import matplotlib.pyplot as plt\n",
        "\n",
        "import warnings\n",
        "warnings.filterwarnings('ignore')"
      ],
      "metadata": {
        "id": "M8Vqi-pPk-HR"
      },
      "execution_count": null,
      "outputs": []
    },
    {
      "cell_type": "markdown",
      "source": [
        "### Dataset Loading"
      ],
      "metadata": {
        "id": "3RnN4peoiCZX"
      }
    },
    {
      "cell_type": "code",
      "source": [
        "# Load Dataset\n",
        "url = 'https://raw.githubusercontent.com/ayushambhore/Cardiovascular-risk-prediction-ML-classification/main/data_cardiovascular_risk.csv'\n",
        "df = pd.read_csv(url)"
      ],
      "metadata": {
        "id": "4CkvbW_SlZ_R"
      },
      "execution_count": null,
      "outputs": []
    },
    {
      "cell_type": "markdown",
      "source": [
        "### Dataset First View"
      ],
      "metadata": {
        "id": "x71ZqKXriCWQ"
      }
    },
    {
      "cell_type": "code",
      "source": [
        "# Dataset First Look\n",
        "df.head(10)"
      ],
      "metadata": {
        "id": "LWNFOSvLl09H"
      },
      "execution_count": null,
      "outputs": []
    },
    {
      "cell_type": "markdown",
      "source": [
        "### Dataset Rows & Columns count"
      ],
      "metadata": {
        "id": "7hBIi_osiCS2"
      }
    },
    {
      "cell_type": "code",
      "source": [
        "# Dataset Rows & Columns count\n",
        "print(f' Row count = {df.shape[0]}\\n Column count = {df.shape[1]}')"
      ],
      "metadata": {
        "id": "Kllu7SJgmLij"
      },
      "execution_count": null,
      "outputs": []
    },
    {
      "cell_type": "markdown",
      "source": [
        "### Dataset Information"
      ],
      "metadata": {
        "id": "JlHwYmJAmNHm"
      }
    },
    {
      "cell_type": "code",
      "source": [
        "# Dataset Info\n",
        "df.info()"
      ],
      "metadata": {
        "id": "e9hRXRi6meOf"
      },
      "execution_count": null,
      "outputs": []
    },
    {
      "cell_type": "markdown",
      "source": [
        "#### Duplicate Values"
      ],
      "metadata": {
        "id": "35m5QtbWiB9F"
      }
    },
    {
      "cell_type": "code",
      "source": [
        "# Dataset Duplicate Value Count\n",
        "len(df[df.duplicated()])"
      ],
      "metadata": {
        "id": "1sLdpKYkmox0"
      },
      "execution_count": null,
      "outputs": []
    },
    {
      "cell_type": "markdown",
      "source": [
        "#### Missing Values/Null Values"
      ],
      "metadata": {
        "id": "PoPl-ycgm1ru"
      }
    },
    {
      "cell_type": "code",
      "source": [
        "# Missing Values/Null Values\n",
        "print(df.isnull().sum())"
      ],
      "metadata": {
        "id": "GgHWkxvamxVg"
      },
      "execution_count": null,
      "outputs": []
    },
    {
      "cell_type": "code",
      "source": [
        "print(df.isnull().sum().sum())"
      ],
      "metadata": {
        "id": "8zJuBwtJ8zZO"
      },
      "execution_count": null,
      "outputs": []
    },
    {
      "cell_type": "code",
      "source": [
        "# Visualizing the missing values\n",
        "sns.heatmap(df.isnull(), cbar=False);"
      ],
      "metadata": {
        "id": "3q5wnI3om9sJ"
      },
      "execution_count": null,
      "outputs": []
    },
    {
      "cell_type": "markdown",
      "source": [
        "### What did you know about your dataset?"
      ],
      "metadata": {
        "id": "H0kj-8xxnORC"
      }
    },
    {
      "cell_type": "markdown",
      "source": [
        "This data refers to the information collected about the functioning and health of the heart. The dataset have 3390 rows and 17 columns. The data have no duplicate rows and 510 missing values."
      ],
      "metadata": {
        "id": "gfoNAAC-nUe_"
      }
    },
    {
      "cell_type": "markdown",
      "source": [
        "## ***2. Understanding Your Variables***"
      ],
      "metadata": {
        "id": "nA9Y7ga8ng1Z"
      }
    },
    {
      "cell_type": "code",
      "source": [
        "# Dataset Columns\n",
        "df.columns"
      ],
      "metadata": {
        "id": "j7xfkqrt5Ag5"
      },
      "execution_count": null,
      "outputs": []
    },
    {
      "cell_type": "code",
      "source": [
        "# Dataset Describe\n",
        "df.describe(include='all')"
      ],
      "metadata": {
        "id": "DnOaZdaE5Q5t"
      },
      "execution_count": null,
      "outputs": []
    },
    {
      "cell_type": "markdown",
      "source": [
        "### Variables Description"
      ],
      "metadata": {
        "id": "PBTbrJXOngz2"
      }
    },
    {
      "cell_type": "markdown",
      "source": [
        "Demographic:\n",
        "\n",
        "* Gender: Indicating the biological sex of the patient (categorical: \"Male\" or \"Female\").\n",
        "* Age: The patient's age, measured in years (continuous variable).\n",
        "Behavioral:\n",
        "\n",
        "* Smoking Status: Whether or not the patient is a current smoker (categorical: \"Yes\" or \"No\").\n",
        "* Average Cigarettes Per Day: The average number of cigarettes smoked per day by the patient (continuous variable).\n",
        "\n",
        "Medical History:\n",
        "\n",
        "* Blood Pressure Medication: Whether or not the patient is currently taking blood pressure medication (categorical: \"Yes\" or \"No\").\n",
        "* Previous Stroke: Whether or not the patient has previously experienced a stroke (categorical: \"Yes\" or \"No\").\n",
        "* Hypertension Prevalence: Whether or not the patient has been diagnosed with hypertension (categorical: \"Yes\" or \"No\").\n",
        "* Diabetes Prevalence: Whether or not the patient has been diagnosed with diabetes (categorical: \"Yes\" or \"No\").\n",
        "\n",
        "Current Medical Measurements:\n",
        "\n",
        "* Total Cholesterol Level: The patient's total cholesterol level (continuous variable).\n",
        "* Systolic Blood Pressure: The patient's systolic blood pressure reading (continuous variable).\n",
        "* Diastolic Blood Pressure: The patient's diastolic blood pressure reading (continuous variable).\n",
        "* BMI (Body Mass Index): The patient's calculated body mass index (continuous variable).\n",
        "* Heart Rate: The patient's heart rate (continuous variable).\n",
        "* Glucose Level: The patient's glucose level (continuous variable).\n",
        "\n",
        "Predicted Variable (Target):\n",
        "\n",
        "* 10-year Risk of Coronary Heart Disease (CHD): Indicating the likelihood of the patient developing coronary heart disease within the next 10 years (binary: \"1\" for \"Yes\" and \"0\" for \"No\").\n",
        "\n",
        "\n",
        "\n",
        "\n",
        "\n"
      ],
      "metadata": {
        "id": "aJV4KIxSnxay"
      }
    },
    {
      "cell_type": "markdown",
      "source": [
        "### Check Unique Values for each variable."
      ],
      "metadata": {
        "id": "u3PMJOP6ngxN"
      }
    },
    {
      "cell_type": "code",
      "source": [
        "# Check Unique Values for each variable.\n",
        "for i in df.columns.tolist():\n",
        "  print(\"No. of unique values in \",i,\"is\",df[i].nunique(),\".\")"
      ],
      "metadata": {
        "id": "zms12Yq5n-jE"
      },
      "execution_count": null,
      "outputs": []
    },
    {
      "cell_type": "markdown",
      "source": [
        "## ***3. EDA***"
      ],
      "metadata": {
        "id": "GF8Ens_Soomf"
      }
    },
    {
      "cell_type": "markdown",
      "source": [
        "### 1. Univariate analysis of Categorical Variables"
      ],
      "metadata": {
        "id": "45Pd140U1OA3"
      }
    },
    {
      "cell_type": "code",
      "source": [
        "categorical_var = ['sex','is_smoking','education','BPMeds','prevalentStroke', 'prevalentHyp', 'diabetes']\n",
        "\n",
        "# Create a figure to hold the subplots\n",
        "plt.figure(figsize=(15, 10))\n",
        "\n",
        "# Set the title for the entire figure\n",
        "plt.suptitle('Exploring Categorical Features', fontsize=20, fontweight='bold', y=1.02)\n",
        "\n",
        "# Iterate through the categorical features and create individual subplots\n",
        "for i, col in enumerate(categorical_var):\n",
        "    plt.subplot(3, 3, i+1)  # Create a subplot with 3 rows and 3 columns\n",
        "\n",
        "    # Use seaborn's countplot to visualize the distribution of the current categorical feature\n",
        "    sns.countplot(data=df, x=col, palette=\"tab10\")\n",
        "\n",
        "# Display the plots\n",
        "plt.tight_layout()  # Adjust the layout to prevent overlapping of subplots\n",
        "plt.show()"
      ],
      "metadata": {
        "id": "4uFviXd53h5W"
      },
      "execution_count": null,
      "outputs": []
    },
    {
      "cell_type": "markdown",
      "source": [
        "**Observations**\n",
        "\n",
        "* There are slightly more females than males in the dataset.\n",
        "\n",
        "* The number of non-smokers is slightly higher than the number of smokers, with each group having around 1600 individuals.\n",
        "\n",
        "* Approximately 1500 individuals have an education level of 1, while nearly 400 individuals have an education level of 4. However, the specific definitions of these education levels are not provided.\n",
        "\n",
        "* Over 3000 individuals are not taking medication for blood pressure.\n",
        "\n",
        "* Only a small number of people in the dataset have a history of stroke.\n",
        "\n",
        "* Around 1000 individuals in the dataset have been identified as hypertensive.\n",
        "\n",
        "* A large number, more than 3000 people, do not have diabetes."
      ],
      "metadata": {
        "id": "Y-9Lhn1TTQMv"
      }
    },
    {
      "cell_type": "markdown",
      "source": [
        "### 2. Univariate analysis of Numerical Variables"
      ],
      "metadata": {
        "id": "IGOkqSnGUBu_"
      }
    },
    {
      "cell_type": "code",
      "source": [
        "continuous_var = ['age','cigsPerDay','totChol','sysBP','diaBP','BMI','heartRate','glucose']\n",
        "\n",
        "# Create a figure to hold the subplots\n",
        "plt.figure(figsize=(15, 15))\n",
        "\n",
        "# Iterate through the continuous variables and create individual subplots\n",
        "for i, col in enumerate(continuous_var):\n",
        "    plt.subplot(4, 2, i+1)  # Create a subplot with 3 rows and 3 columns\n",
        "\n",
        "    # Use seaborn's distplot to visualize the distribution of the current continuous variable\n",
        "    sns.distplot(df[col], kde=False, color='skyblue', label='Distribution')\n",
        "\n",
        "    # Calculate mean and median for the current continuous variable\n",
        "    mean_val = df[col].mean()\n",
        "    median_val = df[col].median()\n",
        "\n",
        "    # Add vertical lines to mark mean and median\n",
        "    plt.axvline(mean_val, color='magenta', linestyle='dashed', linewidth=2, label='Mean')\n",
        "    plt.axvline(median_val, color='cyan', linestyle='dashed', linewidth=2, label='Median')\n",
        "\n",
        "    plt.title(col + ' Distribution')\n",
        "    plt.legend()\n",
        "\n",
        "# Display the plots\n",
        "plt.tight_layout()  # Adjust the layout to prevent overlapping of subplots\n",
        "plt.show()\n"
      ],
      "metadata": {
        "id": "NSz9mTgdVQPs"
      },
      "execution_count": null,
      "outputs": []
    },
    {
      "cell_type": "markdown",
      "source": [
        "**Observations**\n",
        "\n",
        "* Age: The age ranges from 35 to 70 years and follows an almost normal distribution. Most individuals belong to the age group around 40 years.\n",
        "\n",
        "* Cigarettes Smoked per Day: On average, most people do not smoke (0 cigarettes per day), but a significant number of individuals smoke 20 cigarettes per day.\n",
        "\n",
        "* Cholesterol: Cholesterol levels range from 100 to 700. However, the majority of individuals have cholesterol levels between 150 and 350.\n",
        "\n",
        "* Systolic Blood Pressure (BP): Systolic BP ranges mainly from 100 to 200.\n",
        "\n",
        "* Diastolic Blood Pressure (BP): Diastolic BP ranges mainly from 60 to 120.\n",
        "\n",
        "* BMI (Body Mass Index): BMI varies from 16 to 40, indicating a range of body weights.\n",
        "\n",
        "* Heart Rate: Heart rate values are observed between 40 to 110 beats per minute. The most common occurrence is around 75 beats per minute.\n",
        "\n",
        "* Glucose: Glucose levels vary from 50 to 125. However, there are some extreme values that cannot be ignored, as they may pose a risk of heart disease."
      ],
      "metadata": {
        "id": "hBFk-3FvYMMx"
      }
    },
    {
      "cell_type": "markdown",
      "source": [
        "### 3. Bivariate analysis between the dependent variable and continuous independent variables"
      ],
      "metadata": {
        "id": "Fq6PdGiHdD4L"
      }
    },
    {
      "cell_type": "code",
      "source": [
        "dependent_var = ['TenYearCHD']\n",
        "\n",
        "# Create subplots with a 3x3 grid\n",
        "plt.figure(figsize=(15, 15))\n",
        "plt.subplots_adjust(hspace=0.5)  # Adjust the vertical spacing between subplots\n",
        "\n",
        "# Loop through each continuous variable and create a violin plot\n",
        "for idx, i in enumerate(continuous_var):\n",
        "    plt.subplot(3, 3, idx + 1)  # Create a subplot with 3 rows and 3 columns\n",
        "\n",
        "    # Use seaborn's violinplot to visualize the relationship between dependent_var and the current continuous variable\n",
        "    sns.violinplot(x=dependent_var[0], y=i, data=df, palette={0: \"blue\", 1: \"magenta\"})\n",
        "\n",
        "    # Set labels and title\n",
        "    plt.ylabel(i)\n",
        "    plt.xlabel(dependent_var[0])\n",
        "    plt.title(f\"{dependent_var[0]} vs {i}\")\n",
        "\n",
        "# Display the plots\n",
        "plt.show()\n"
      ],
      "metadata": {
        "id": "lLFPB3xxcann"
      },
      "execution_count": null,
      "outputs": []
    },
    {
      "cell_type": "markdown",
      "source": [
        "**Observations**\n",
        "\n",
        "* The data analysis indicates a higher risk of Coronary Heart Disease (CHD) among older patients compared to younger ones. However, concerning other continuous variables, there is no definitive evidence supporting their association with CHD risk.\n",
        "\n",
        "* The observations highlight the significance of age as a risk factor for CHD, which aligns with existing medical knowledge. Nonetheless, it is crucial to conduct further research and analysis to explore potential relationships between CHD risk and other continuous variables.\n",
        "\n",
        "\n",
        "Understanding the factors contributing to CHD risk is essential for public health initiatives and individual patient care. Additional investigations can provide valuable insights, leading to better preventive measures and tailored interventions for various risk groups. As the medical landscape evolves, comprehensive data analysis continues to play a vital role in advancing our knowledge of cardiovascular diseases."
      ],
      "metadata": {
        "id": "3ny3t0QljXhC"
      }
    },
    {
      "cell_type": "markdown",
      "source": [
        "### 4. Bivariate analysis between the dependent variable and categorical independent variables"
      ],
      "metadata": {
        "id": "ZeuC-n05kbfW"
      }
    },
    {
      "cell_type": "code",
      "source": [
        "# Calculate the percentage distribution of the dependent variable\n",
        "percent_distribution = df[dependent_var].value_counts(normalize=True) * 100\n",
        "\n",
        "# Create subplots with a layout of 4 rows and 2 columns\n",
        "plt.figure(figsize=(15, 20))\n",
        "plt.subplots_adjust(hspace=0.5, wspace=0.3)  # Adjust the vertical and horizontal spacing between subplots\n",
        "\n",
        "# Loop through each categorical variable and create a 100% stacked bar chart\n",
        "for idx, cat_var in enumerate(categorical_var):\n",
        "    plt.subplot(4, 2, idx + 1)  # Create a subplot with 4 rows and 2 columns\n",
        "\n",
        "    # Calculate the percentage distribution of the dependent variable for the current categorical variable\n",
        "    percent_distribution = df.groupby(cat_var)[dependent_var].value_counts(normalize=True).unstack() * 100\n",
        "\n",
        "    # Create a stacked bar chart for the dependent variable\n",
        "    percent_distribution.plot(kind='bar', stacked=True, ax=plt.gca(), width=0.8)\n",
        "\n",
        "    # Set labels and title\n",
        "    plt.xlabel(cat_var)\n",
        "    plt.ylabel('Percentage')\n",
        "    plt.title(f'Distribution of {dependent_var} by {cat_var}')\n",
        "    plt.xticks(rotation=0)\n",
        "\n",
        "    # Annotate the bars with percentages\n",
        "    for p in plt.gca().patches:\n",
        "        width, height = p.get_width(), p.get_height()\n",
        "        x, y = p.get_xy()\n",
        "        plt.gca().annotate(f'{height:.1f}%', (x + width / 2, y + height / 2), ha='center', va='center')\n",
        "\n",
        "plt.show()\n"
      ],
      "metadata": {
        "id": "76DGf_nnkZpo"
      },
      "execution_count": null,
      "outputs": []
    },
    {
      "cell_type": "markdown",
      "source": [
        "**Observations**\n",
        "\n",
        "* Male patients face a significantly higher CHD risk (18%) compared to female patients (12%).\n",
        "\n",
        "* Smoking is associated with a significantly higher CHD risk (16%) compared to non-smoking patients (13%).\n",
        "\n",
        "* Patients with education level 1, 2, 3, and 4 had CHD percentages of 18%, 11%, 12%, and 14%, respectively.\n",
        "\n",
        "* Patients taking BP medicines have a significantly higher CHD risk (33%) than those not on medication (14%).\n",
        "\n",
        "* Patients who experienced a stroke in their life have a substantially higher CHD risk (45%) than other patients (14%).\n",
        "\n",
        "* Hypertensive patients face a significantly higher CHD risk (23%) than non-hypertensive patients (11%).\n",
        "\n",
        "* Diabetic patients have a considerably higher risk of CHD (37%) than other patients (14%)."
      ],
      "metadata": {
        "id": "3MmGbmlxlk3S"
      }
    },
    {
      "cell_type": "markdown",
      "source": [
        "### EDA summary\n",
        "\n",
        "\n",
        "\n",
        "\n",
        "\n",
        "\n"
      ],
      "metadata": {
        "id": "2ipcHFHizuQI"
      }
    },
    {
      "cell_type": "markdown",
      "source": [
        "The dataset exhibits a balanced gender representation, with slightly more females than males. Smoking habits are evenly distributed between smokers and non-smokers. Education levels vary, with a majority at level 1 and fewer at level 4. Many individuals are not taking BP medicines, and stroke history is relatively low. Hypertensive patients and non-diabetics form significant groups. Age follows a normal distribution, with the most common age group around 40 years. Smokers tend to smoke around 20 cigarettes daily. Cholesterol, systolic/diastolic blood pressure, BMI, heart rate, and glucose levels show diverse ranges. Age emerges as a crucial CHD risk factor, while gender, smoking, education levels, BP medicines, stroke history, hypertension, and diabetes are significantly associated with CHD risk.\n"
      ],
      "metadata": {
        "id": "IWVx_E-5z_Ir"
      }
    },
    {
      "cell_type": "markdown",
      "source": [
        "## ***4. Feature Engineering & Data Pre-processing***"
      ],
      "metadata": {
        "id": "yLjJCtPM0KBk"
      }
    },
    {
      "cell_type": "markdown",
      "source": [
        "### 1. Handling the NULL values"
      ],
      "metadata": {
        "id": "mW17i006qh5Y"
      }
    },
    {
      "cell_type": "markdown",
      "source": [
        "In the medical dataset we are working with, the values are person-specific and essential for accurate predictions. Therefore, imputing null values using advanced methods could introduce inaccuracies. To ensure data integrity and minimize risks, we have decided on a two-step approach.\n",
        "\n",
        "Firstly, we will identify features with less than 5% null values and drop the corresponding rows. This step ensures that we retain most of the data while removing only a small portion with missing values."
      ],
      "metadata": {
        "id": "dQhdKtZ9sv7t"
      }
    },
    {
      "cell_type": "code",
      "source": [
        "# Calculate the percentage of missing values in each column of the DataFrame 'df'\n",
        "missing_percentages = df.isna().sum() / len(df) * 100\n",
        "\n",
        "# Round the missing_percentages to 2 decimal places\n",
        "rounded_missing_percentages = missing_percentages.round(2)\n",
        "\n",
        "# Print the rounded missing percentages for each column\n",
        "print(\"Missing value percentages:\")\n",
        "print(rounded_missing_percentages)\n"
      ],
      "metadata": {
        "id": "wk-9a2fpoLcV"
      },
      "execution_count": null,
      "outputs": []
    },
    {
      "cell_type": "code",
      "source": [
        "df.dropna(subset=['education', 'cigsPerDay', 'BPMeds', 'totChol', 'BMI', 'heartRate'], inplace=True)"
      ],
      "metadata": {
        "id": "_n2pAp2-sVLu"
      },
      "execution_count": null,
      "outputs": []
    },
    {
      "cell_type": "markdown",
      "source": [
        "Secondly, for the remaining rows, we will perform imputation to fill in the null values. Although this step may introduce some level of uncertainty in the predictions, we believe it will not significantly affect the overall outcome."
      ],
      "metadata": {
        "id": "AqtyZP95tXKT"
      }
    },
    {
      "cell_type": "code",
      "source": [
        "# Impute missing values in 'glucose' column with the median value from dataset\n",
        "median_glucose = df['glucose'].median()\n",
        "df['glucose'] = df['glucose'].fillna(median_glucose)"
      ],
      "metadata": {
        "id": "VV2JT6_wtbCv"
      },
      "execution_count": null,
      "outputs": []
    },
    {
      "cell_type": "code",
      "source": [
        "# Visualizing the missing values\n",
        "sns.heatmap(df.isnull(), cbar=False);"
      ],
      "metadata": {
        "id": "RTkpPZ6Ftzos"
      },
      "execution_count": null,
      "outputs": []
    },
    {
      "cell_type": "markdown",
      "source": [
        "### 2. Handling Outliers"
      ],
      "metadata": {
        "id": "id1riN9m0vUs"
      }
    },
    {
      "cell_type": "code",
      "source": [
        "Q1 = df.quantile(0.25)\n",
        "Q3 = df.quantile(0.75)\n",
        "IQR = Q3 - Q1\n",
        "\n",
        "outliers_count = ((df < Q1 - 1.5 * IQR) | (df > Q3 + 1.5 * IQR)).sum(axis=0)\n",
        "\n",
        "outliers_count"
      ],
      "metadata": {
        "id": "M6w2CzZf04JK"
      },
      "execution_count": null,
      "outputs": []
    },
    {
      "cell_type": "markdown",
      "source": [
        "We can see that very less collinearity is present so we should treat these ."
      ],
      "metadata": {
        "id": "NDVNZg0kc7zU"
      }
    },
    {
      "cell_type": "code",
      "source": [
        "# Handle outliers using IQR method\n",
        "lower_threshold = Q1 - 1.5 * IQR\n",
        "upper_threshold = Q3 + 1.5 * IQR\n",
        "\n",
        "df = df.mask(df < lower_threshold, Q1 - 1.5 * IQR, axis=1)\n",
        "df = df.mask(df > upper_threshold, Q3 + 1.5 * IQR, axis=1)"
      ],
      "metadata": {
        "id": "eeJBLsu93Dry"
      },
      "execution_count": null,
      "outputs": []
    },
    {
      "cell_type": "code",
      "source": [
        "Q1 = df.quantile(0.25)\n",
        "Q3 = df.quantile(0.75)\n",
        "IQR = Q3 - Q1\n",
        "\n",
        "outliers_count = ((df < Q1 - 1.5 * IQR) | (df > Q3 + 1.5 * IQR)).sum(axis=0)\n",
        "\n",
        "outliers_count"
      ],
      "metadata": {
        "id": "e9HKj9Ba3HUY"
      },
      "execution_count": null,
      "outputs": []
    },
    {
      "cell_type": "markdown",
      "source": [
        "##### What all outlier treatment techniques have you used and why did you use those techniques?"
      ],
      "metadata": {
        "id": "578E2V7j08f6"
      }
    },
    {
      "cell_type": "markdown",
      "source": [
        "I used the Interquartile Range (IQR) method to handle outliers. This technique is robust, non-parametric, and simple. It calculates the IQR, determines lower and upper thresholds, and replaces potential outliers with the corresponding threshold values using the mask function. By using the IQR method, extreme values are identified and treated, improving data accuracy and analysis reliability."
      ],
      "metadata": {
        "id": "uGZz5OrT1HH-"
      }
    },
    {
      "cell_type": "markdown",
      "source": [
        "### 3. Categorical Encoding"
      ],
      "metadata": {
        "id": "89xtkJwZ18nB"
      }
    },
    {
      "cell_type": "code",
      "source": [
        "# Encode 'is_smoking' column with 'YES' as 1 and 'NO' as 0\n",
        "df['is_smoking'] = df['is_smoking'].map({'YES': 1, 'NO': 0})\n",
        "\n",
        "# Encode 'sex' column with 'M' as 1 and 'F' as 0\n",
        "df['sex'] = df['sex'].map({'M': 1, 'F': 0})"
      ],
      "metadata": {
        "id": "21JmIYMG2hEo"
      },
      "execution_count": null,
      "outputs": []
    },
    {
      "cell_type": "markdown",
      "source": [
        "we will perform one-hot encoding on the 'education' feature in the DataFrame. This process will convert the categorical variable 'education' into binary columns for each unique category, and we will then drop the original 'education' feature to avoid redundancy."
      ],
      "metadata": {
        "id": "4QWc-GnsMMr9"
      }
    },
    {
      "cell_type": "code",
      "source": [
        "# Perform one-hot encoding for the 'education' feature\n",
        "education_onehot = pd.get_dummies(df['education'], prefix='edu')\n",
        "\n",
        "# Drop the original 'education' feature from the DataFrame\n",
        "df = df.drop('education', axis=1)\n",
        "\n",
        "# Concatenate the one-hot encoded 'education' feature with the rest of the data\n",
        "df = pd.concat([df, education_onehot], axis=1)\n",
        "\n",
        "# Display the first three rows of the updated DataFrame\n",
        "df.head(3)\n"
      ],
      "metadata": {
        "id": "GDSE7dCDDD38"
      },
      "execution_count": null,
      "outputs": []
    },
    {
      "cell_type": "markdown",
      "source": [
        "#### What all categorical encoding techniques have you used & why did you use those techniques?"
      ],
      "metadata": {
        "id": "67NQN5KX2AMe"
      }
    },
    {
      "cell_type": "markdown",
      "source": [
        "Answer Here."
      ],
      "metadata": {
        "id": "UDaue5h32n_G"
      }
    },
    {
      "cell_type": "markdown",
      "source": [
        "### 4. Feature Manipulation & Selection"
      ],
      "metadata": {
        "id": "-oLEiFgy-5Pf"
      }
    },
    {
      "cell_type": "markdown",
      "source": [
        "#### 1. Feature Manipulation"
      ],
      "metadata": {
        "id": "C74aWNz2AliB"
      }
    },
    {
      "cell_type": "code",
      "source": [
        "# Manipulate Features to minimize feature correlation and create new features"
      ],
      "metadata": {
        "id": "h1qC4yhBApWC"
      },
      "execution_count": null,
      "outputs": []
    },
    {
      "cell_type": "markdown",
      "source": [
        "#### 2. Feature Selection"
      ],
      "metadata": {
        "id": "2DejudWSA-a0"
      }
    },
    {
      "cell_type": "code",
      "source": [
        "# Select your features wisely to avoid overfitting"
      ],
      "metadata": {
        "id": "YLhe8UmaBCEE"
      },
      "execution_count": null,
      "outputs": []
    },
    {
      "cell_type": "markdown",
      "source": [
        "##### What all feature selection methods have you used  and why?"
      ],
      "metadata": {
        "id": "pEMng2IbBLp7"
      }
    },
    {
      "cell_type": "markdown",
      "source": [
        "Answer Here."
      ],
      "metadata": {
        "id": "rb2Lh6Z8BgGs"
      }
    },
    {
      "cell_type": "markdown",
      "source": [
        "##### Which all features you found important and why?"
      ],
      "metadata": {
        "id": "rAdphbQ9Bhjc"
      }
    },
    {
      "cell_type": "markdown",
      "source": [
        "Answer Here."
      ],
      "metadata": {
        "id": "fGgaEstsBnaf"
      }
    },
    {
      "cell_type": "markdown",
      "source": [
        "### 5. Data Transformation"
      ],
      "metadata": {
        "id": "TNVZ9zx19K6k"
      }
    },
    {
      "cell_type": "markdown",
      "source": [
        "#### Do you think that your data needs to be transformed? If yes, which transformation have you used. Explain Why?"
      ],
      "metadata": {
        "id": "nqoHp30x9hH9"
      }
    },
    {
      "cell_type": "code",
      "source": [
        "# Transform Your data"
      ],
      "metadata": {
        "id": "I6quWQ1T9rtH"
      },
      "execution_count": null,
      "outputs": []
    },
    {
      "cell_type": "markdown",
      "source": [
        "### 6. Data Scaling"
      ],
      "metadata": {
        "id": "rMDnDkt2B6du"
      }
    },
    {
      "cell_type": "code",
      "source": [
        "# Scaling your data"
      ],
      "metadata": {
        "id": "dL9LWpySC6x_"
      },
      "execution_count": null,
      "outputs": []
    },
    {
      "cell_type": "markdown",
      "source": [
        "##### Which method have you used to scale you data and why?"
      ],
      "metadata": {
        "id": "yiiVWRdJDDil"
      }
    },
    {
      "cell_type": "markdown",
      "source": [
        "### 7. Dimesionality Reduction"
      ],
      "metadata": {
        "id": "1UUpS68QDMuG"
      }
    },
    {
      "cell_type": "markdown",
      "source": [
        "##### Do you think that dimensionality reduction is needed? Explain Why?"
      ],
      "metadata": {
        "id": "kexQrXU-DjzY"
      }
    },
    {
      "cell_type": "markdown",
      "source": [
        "Answer Here."
      ],
      "metadata": {
        "id": "GGRlBsSGDtTQ"
      }
    },
    {
      "cell_type": "code",
      "source": [
        "# DImensionality Reduction (If needed)"
      ],
      "metadata": {
        "id": "kQfvxBBHDvCa"
      },
      "execution_count": null,
      "outputs": []
    },
    {
      "cell_type": "markdown",
      "source": [
        "##### Which dimensionality reduction technique have you used and why? (If dimensionality reduction done on dataset.)"
      ],
      "metadata": {
        "id": "T5CmagL3EC8N"
      }
    },
    {
      "cell_type": "markdown",
      "source": [
        "Answer Here."
      ],
      "metadata": {
        "id": "ZKr75IDuEM7t"
      }
    },
    {
      "cell_type": "markdown",
      "source": [
        "### 8. Data Splitting"
      ],
      "metadata": {
        "id": "BhH2vgX9EjGr"
      }
    },
    {
      "cell_type": "code",
      "source": [
        "# Split your data to train and test. Choose Splitting ratio wisely."
      ],
      "metadata": {
        "id": "0CTyd2UwEyNM"
      },
      "execution_count": null,
      "outputs": []
    },
    {
      "cell_type": "markdown",
      "source": [
        "##### What data splitting ratio have you used and why?"
      ],
      "metadata": {
        "id": "qjKvONjwE8ra"
      }
    },
    {
      "cell_type": "markdown",
      "source": [
        "Answer Here."
      ],
      "metadata": {
        "id": "Y2lJ8cobFDb_"
      }
    },
    {
      "cell_type": "markdown",
      "source": [
        "### 9. Handling Imbalanced Dataset"
      ],
      "metadata": {
        "id": "P1XJ9OREExlT"
      }
    },
    {
      "cell_type": "markdown",
      "source": [
        "##### Do you think the dataset is imbalanced? Explain Why."
      ],
      "metadata": {
        "id": "VFOzZv6IFROw"
      }
    },
    {
      "cell_type": "markdown",
      "source": [
        "Answer Here."
      ],
      "metadata": {
        "id": "GeKDIv7pFgcC"
      }
    },
    {
      "cell_type": "code",
      "source": [
        "# Handling Imbalanced Dataset (If needed)"
      ],
      "metadata": {
        "id": "nQsRhhZLFiDs"
      },
      "execution_count": null,
      "outputs": []
    },
    {
      "cell_type": "markdown",
      "source": [
        "##### What technique did you use to handle the imbalance dataset and why? (If needed to be balanced)"
      ],
      "metadata": {
        "id": "TIqpNgepFxVj"
      }
    },
    {
      "cell_type": "markdown",
      "source": [
        "Answer Here."
      ],
      "metadata": {
        "id": "qbet1HwdGDTz"
      }
    },
    {
      "cell_type": "markdown",
      "source": [
        "## ***5. ML Model Implementation***"
      ],
      "metadata": {
        "id": "VfCC591jGiD4"
      }
    },
    {
      "cell_type": "markdown",
      "source": [
        "### ML Model - 1"
      ],
      "metadata": {
        "id": "OB4l2ZhMeS1U"
      }
    },
    {
      "cell_type": "code",
      "source": [
        "# ML Model - 1 Implementation\n",
        "\n",
        "# Fit the Algorithm\n",
        "\n",
        "# Predict on the model"
      ],
      "metadata": {
        "id": "7ebyywQieS1U"
      },
      "execution_count": null,
      "outputs": []
    },
    {
      "cell_type": "markdown",
      "source": [
        "#### 1. Explain the ML Model used and it's performance using Evaluation metric Score Chart."
      ],
      "metadata": {
        "id": "ArJBuiUVfxKd"
      }
    },
    {
      "cell_type": "code",
      "source": [
        "# Visualizing evaluation Metric Score chart"
      ],
      "metadata": {
        "id": "rqD5ZohzfxKe"
      },
      "execution_count": null,
      "outputs": []
    },
    {
      "cell_type": "markdown",
      "source": [
        "#### 2. Cross- Validation & Hyperparameter Tuning"
      ],
      "metadata": {
        "id": "4qY1EAkEfxKe"
      }
    },
    {
      "cell_type": "code",
      "source": [
        "# ML Model - 1 Implementation with hyperparameter optimization techniques (i.e., GridSearch CV, RandomSearch CV, Bayesian Optimization etc.)\n",
        "\n",
        "# Fit the Algorithm\n",
        "\n",
        "# Predict on the model"
      ],
      "metadata": {
        "id": "Dy61ujd6fxKe"
      },
      "execution_count": null,
      "outputs": []
    },
    {
      "cell_type": "markdown",
      "source": [
        "##### Which hyperparameter optimization technique have you used and why?"
      ],
      "metadata": {
        "id": "PiV4Ypx8fxKe"
      }
    },
    {
      "cell_type": "markdown",
      "source": [
        "Answer Here."
      ],
      "metadata": {
        "id": "negyGRa7fxKf"
      }
    },
    {
      "cell_type": "markdown",
      "source": [
        "##### Have you seen any improvement? Note down the improvement with updates Evaluation metric Score Chart."
      ],
      "metadata": {
        "id": "TfvqoZmBfxKf"
      }
    },
    {
      "cell_type": "markdown",
      "source": [
        "Answer Here."
      ],
      "metadata": {
        "id": "OaLui8CcfxKf"
      }
    },
    {
      "cell_type": "markdown",
      "source": [
        "### ML Model - 2"
      ],
      "metadata": {
        "id": "dJ2tPlVmpsJ0"
      }
    },
    {
      "cell_type": "markdown",
      "source": [
        "#### 1. Explain the ML Model used and it's performance using Evaluation metric Score Chart."
      ],
      "metadata": {
        "id": "JWYfwnehpsJ1"
      }
    },
    {
      "cell_type": "code",
      "source": [
        "# Visualizing evaluation Metric Score chart"
      ],
      "metadata": {
        "id": "yEl-hgQWpsJ1"
      },
      "execution_count": null,
      "outputs": []
    },
    {
      "cell_type": "markdown",
      "source": [
        "#### 2. Cross- Validation & Hyperparameter Tuning"
      ],
      "metadata": {
        "id": "-jK_YjpMpsJ2"
      }
    },
    {
      "cell_type": "code",
      "source": [
        "# ML Model - 1 Implementation with hyperparameter optimization techniques (i.e., GridSearch CV, RandomSearch CV, Bayesian Optimization etc.)\n",
        "\n",
        "# Fit the Algorithm\n",
        "\n",
        "# Predict on the model"
      ],
      "metadata": {
        "id": "Dn0EOfS6psJ2"
      },
      "execution_count": null,
      "outputs": []
    },
    {
      "cell_type": "markdown",
      "source": [
        "##### Which hyperparameter optimization technique have you used and why?"
      ],
      "metadata": {
        "id": "HAih1iBOpsJ2"
      }
    },
    {
      "cell_type": "markdown",
      "source": [
        "Answer Here."
      ],
      "metadata": {
        "id": "9kBgjYcdpsJ2"
      }
    },
    {
      "cell_type": "markdown",
      "source": [
        "##### Have you seen any improvement? Note down the improvement with updates Evaluation metric Score Chart."
      ],
      "metadata": {
        "id": "zVGeBEFhpsJ2"
      }
    },
    {
      "cell_type": "markdown",
      "source": [
        "Answer Here."
      ],
      "metadata": {
        "id": "74yRdG6UpsJ3"
      }
    },
    {
      "cell_type": "markdown",
      "source": [
        "#### 3. Explain each evaluation metric's indication towards business and the business impact pf the ML model used."
      ],
      "metadata": {
        "id": "bmKjuQ-FpsJ3"
      }
    },
    {
      "cell_type": "markdown",
      "source": [
        "Answer Here."
      ],
      "metadata": {
        "id": "BDKtOrBQpsJ3"
      }
    },
    {
      "cell_type": "markdown",
      "source": [
        "### ML Model - 3"
      ],
      "metadata": {
        "id": "Fze-IPXLpx6K"
      }
    },
    {
      "cell_type": "code",
      "source": [
        "# ML Model - 3 Implementation\n",
        "\n",
        "# Fit the Algorithm\n",
        "\n",
        "# Predict on the model"
      ],
      "metadata": {
        "id": "FFrSXAtrpx6M"
      },
      "execution_count": null,
      "outputs": []
    },
    {
      "cell_type": "markdown",
      "source": [
        "#### 1. Explain the ML Model used and it's performance using Evaluation metric Score Chart."
      ],
      "metadata": {
        "id": "7AN1z2sKpx6M"
      }
    },
    {
      "cell_type": "code",
      "source": [
        "# Visualizing evaluation Metric Score chart"
      ],
      "metadata": {
        "id": "xIY4lxxGpx6M"
      },
      "execution_count": null,
      "outputs": []
    },
    {
      "cell_type": "markdown",
      "source": [
        "#### 2. Cross- Validation & Hyperparameter Tuning"
      ],
      "metadata": {
        "id": "9PIHJqyupx6M"
      }
    },
    {
      "cell_type": "code",
      "source": [
        "# ML Model - 3 Implementation with hyperparameter optimization techniques (i.e., GridSearch CV, RandomSearch CV, Bayesian Optimization etc.)\n",
        "\n",
        "# Fit the Algorithm\n",
        "\n",
        "# Predict on the model"
      ],
      "metadata": {
        "id": "eSVXuaSKpx6M"
      },
      "execution_count": null,
      "outputs": []
    },
    {
      "cell_type": "markdown",
      "source": [
        "##### Which hyperparameter optimization technique have you used and why?"
      ],
      "metadata": {
        "id": "_-qAgymDpx6N"
      }
    },
    {
      "cell_type": "markdown",
      "source": [
        "Answer Here."
      ],
      "metadata": {
        "id": "lQMffxkwpx6N"
      }
    },
    {
      "cell_type": "markdown",
      "source": [
        "##### Have you seen any improvement? Note down the improvement with updates Evaluation metric Score Chart."
      ],
      "metadata": {
        "id": "Z-hykwinpx6N"
      }
    },
    {
      "cell_type": "markdown",
      "source": [
        "Answer Here."
      ],
      "metadata": {
        "id": "MzVzZC6opx6N"
      }
    },
    {
      "cell_type": "markdown",
      "source": [
        "### 1. Which Evaluation metrics did you consider for a positive business impact and why?"
      ],
      "metadata": {
        "id": "h_CCil-SKHpo"
      }
    },
    {
      "cell_type": "markdown",
      "source": [
        "Answer Here."
      ],
      "metadata": {
        "id": "jHVz9hHDKFms"
      }
    },
    {
      "cell_type": "markdown",
      "source": [
        "### 2. Which ML model did you choose from the above created models as your final prediction model and why?"
      ],
      "metadata": {
        "id": "cBFFvTBNJzUa"
      }
    },
    {
      "cell_type": "markdown",
      "source": [
        "Answer Here."
      ],
      "metadata": {
        "id": "6ksF5Q1LKTVm"
      }
    },
    {
      "cell_type": "markdown",
      "source": [
        "### 3. Explain the model which you have used and the feature importance using any model explainability tool?"
      ],
      "metadata": {
        "id": "HvGl1hHyA_VK"
      }
    },
    {
      "cell_type": "markdown",
      "source": [
        "Answer Here."
      ],
      "metadata": {
        "id": "YnvVTiIxBL-C"
      }
    },
    {
      "cell_type": "markdown",
      "source": [
        "# **Conclusion**"
      ],
      "metadata": {
        "id": "gCX9965dhzqZ"
      }
    },
    {
      "cell_type": "markdown",
      "source": [
        "Write the conclusion here."
      ],
      "metadata": {
        "id": "Fjb1IsQkh3yE"
      }
    },
    {
      "cell_type": "markdown",
      "source": [
        "### ***Hurrah! You have successfully completed your Machine Learning Capstone Project !!!***"
      ],
      "metadata": {
        "id": "gIfDvo9L0UH2"
      }
    }
  ]
}